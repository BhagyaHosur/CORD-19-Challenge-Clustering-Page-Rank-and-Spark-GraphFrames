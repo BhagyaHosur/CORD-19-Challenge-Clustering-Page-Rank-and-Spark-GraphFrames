{
 "cells": [
  {
   "cell_type": "code",
   "execution_count": null,
   "metadata": {},
   "outputs": [],
   "source": [
    "import os\n",
    "import json\n",
    "import csv\n",
    "import pandas as pd\n",
    "from pandas import *\n",
    "from matplotlib import *\n",
    "%matplotlib inline\n",
    "from matplotlib.pyplot import *\n",
    "from scipy.stats import ttest_ind,ttest_ind_from_stats\n",
    "from scipy.stats import *\n",
    "from fuzzywuzzy import fuzz\n",
    "from fuzzywuzzy import process"
   ]
  },
  {
   "cell_type": "code",
   "execution_count": null,
   "metadata": {},
   "outputs": [],
   "source": [
    "def affiliation_parsing(x: dict) -> str:\n",
    "    current = []\n",
    "    for key in ['laboratory', 'institution']:\n",
    "        if x['affiliation'].get(key):  \n",
    "            current.append(x['affiliation'][key])\n",
    "        else:\n",
    "            current.append('')\n",
    "    for key in ['addrLine', 'settlement', 'region', 'country', 'postCode']:\n",
    "        if x['affiliation'].get('location'):\n",
    "            if x['affiliation']['location'].get(key):\n",
    "                current.append(x['affiliation']['location'][key])\n",
    "        else:\n",
    "            current.append('')\n",
    "    return ', '.join(current)\n",
    "\n",
    "\n",
    "def cite_parsing(x: list, key: str) -> list:\n",
    "    cites = [i[key] if i else '' for i in x]\n",
    "    output = []\n",
    "    for i in cites:\n",
    "        if i:\n",
    "            output.append(','.join([j['ref_id'] if j['ref_id'] else '' for j in i]))\n",
    "        else:\n",
    "            output.append('')\n",
    "    return '|'.join(output)\n",
    "\n",
    "\n",
    "def extract_key(x: list, key:str) -> str:\n",
    "    if x:\n",
    "        return ['|'.join(i[key] if i[key] else '' for i in x)]\n",
    "    return ''\n",
    "\n",
    "extract_func = lambda x, func: ['|'.join(func(i) for i in x)]\n",
    "format_authors = lambda x: f\"{x['first']} {x['last']}\"\n",
    "format_full_authors = lambda x: f\"{x['first']} {''.join(x['middle'])} {x['last']} {x['suffix']}\"\n",
    "format_abstract = lambda x: \"{}\\n {}\".format(x['section'], x['text'])\n",
    "all_keys = lambda x, key: '|'.join(i[key] for i in x.values())"
   ]
  },
  {
   "cell_type": "code",
   "execution_count": null,
   "metadata": {},
   "outputs": [],
   "source": [
    "for path in ['biorxiv_medrxiv1']:\n",
    "    json_files = [file for file in os.listdir(f'/CORD-19-research-challenge/{path}') if file.endswith('.json')]\n",
    "    df_list = []\n",
    "\n",
    "    for js in json_files:\n",
    "        with open(os.path.join(f'/CORD-19-research-challenge/{path}', js)) as json_file:\n",
    "            paper = json.load(json_file)\n",
    "            print(path, js)\n",
    "            paper_df = pd.DataFrame({\n",
    "            'paper_id': paper['paper_id'],\n",
    "            'title': paper['metadata']['title'],\n",
    "            'authors': extract_func(paper['metadata']['authors'], format_authors),\n",
    "            'bib_titles': all_keys(paper['bib_entries'], 'title'),\n",
    "        })\n",
    "        df_list.append(paper_df)\n",
    "    temp_df = pd.concat(df_list)\n",
    "    temp_df.to_csv(f'/CORD-19-research-challenge/{path}.csv', index=False)"
   ]
  },
  {
   "cell_type": "code",
   "execution_count": null,
   "metadata": {},
   "outputs": [],
   "source": [
    "data=read_csv('biorxiv_medrxiv.csv')\n",
    "x = (data['bib_titles'])\n",
    "a = data['paper_id']"
   ]
  },
  {
   "cell_type": "code",
   "execution_count": null,
   "metadata": {},
   "outputs": [],
   "source": [
    "final = []\n",
    "final1 = \"\"\n",
    "for i in range(0,len(x)):\n",
    "    y = (data['bib_titles'][i])\n",
    "    final1 = y.split('|')\n",
    "    final.append(final1)"
   ]
  },
  {
   "cell_type": "code",
   "execution_count": null,
   "metadata": {},
   "outputs": [],
   "source": [
    "finalresult = []\n",
    "for i in range(0,len(x)):\n",
    "    for j in range(0,len(final[i])):\n",
    "        tp1 = (a[i],final[i][j])\n",
    "        finalresult.append(tp1)"
   ]
  },
  {
   "cell_type": "code",
   "execution_count": null,
   "metadata": {},
   "outputs": [],
   "source": [
    "with open('biorxiv_medrxiv_output.csv','w',encoding=\"utf-8\",newline='') as out:\n",
    "    csv_out=csv.writer(out)\n",
    "    csv_out.writerow(['paper_id','bib_title'])\n",
    "    for row in finalresult:\n",
    "        csv_out.writerow(row)"
   ]
  },
  {
   "cell_type": "code",
   "execution_count": null,
   "metadata": {},
   "outputs": [],
   "source": [
    "df = pd.read_csv('biorxiv_medrxiv.csv')\n",
    "key= df['paper_id']\n",
    "bib= df['bib_titles'].str.split('|')\n",
    "key_pair=[]\n",
    "for y in range(0,len(key)):\n",
    "    for x in bib[y]:\n",
    "            key_pair.append((key[y],x))"
   ]
  },
  {
   "cell_type": "code",
   "execution_count": null,
   "metadata": {},
   "outputs": [],
   "source": [
    "print(key_pair)"
   ]
  },
  {
   "cell_type": "code",
   "execution_count": null,
   "metadata": {},
   "outputs": [],
   "source": [
    "srcdata=read_csv('metadata.csv')\n",
    "dstdata=read_csv('cleandata_biorxiv_medrxiv.csv')\n",
    "a=srcdata['title']\n",
    "b=dstdata['refined_title']\n",
    "c = srcdata['sha']\n",
    "d = dstdata['paper_id']\n",
    "res = []\n",
    "for i in range(0,len(a)):\n",
    "    for j in range(0,len(b)):\n",
    "        if not pd.isnull(c[i]):\n",
    "            val = fuzz.token_sort_ratio(a[i],b[j])\n",
    "            tup1 = (c[i],d[j],a[i],b[j],val)\n",
    "            res.append(tup1)"
   ]
  },
  {
   "cell_type": "code",
   "execution_count": null,
   "metadata": {},
   "outputs": [],
   "source": [
    "with open('final_biorxiv_medrxiv.csv','w',encoding=\"utf-8\",newline='') as out:\n",
    "    csv_out=csv.writer(out)\n",
    "    csv_out.writerow(['sha','paper_id','paper_name_meta','paper_name_folder','ratio'])\n",
    "    for row in res:\n",
    "        csv_out.writerow(row)"
   ]
  }
 ],
 "metadata": {
  "kernelspec": {
   "display_name": "Python 3",
   "language": "python",
   "name": "python3"
  },
  "language_info": {
   "codemirror_mode": {
    "name": "ipython",
    "version": 3
   },
   "file_extension": ".py",
   "mimetype": "text/x-python",
   "name": "python",
   "nbconvert_exporter": "python",
   "pygments_lexer": "ipython3",
   "version": "3.7.3"
  }
 },
 "nbformat": 4,
 "nbformat_minor": 2
}
